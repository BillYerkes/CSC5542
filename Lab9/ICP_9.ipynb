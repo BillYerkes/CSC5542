{
  "nbformat": 4,
  "nbformat_minor": 0,
  "metadata": {
    "colab": {
      "name": "ICP_9.ipynb",
      "provenance": []
    },
    "kernelspec": {
      "name": "python3",
      "display_name": "Python 3"
    }
  },
  "cells": [
    {
      "cell_type": "markdown",
      "metadata": {
        "id": "4tOWCl5TfSvm"
      },
      "source": [
        "Lab 9\n",
        "\n",
        "22 October 2020\n",
        "\n",
        "Create a linear regression model in python using any dataset of your choice. For this model you can also create your own data. Find the best fit line in the data and calculate SSE (sum of square error) or MSE (Mean square error) , Y intercept, and Slope for the relationship in data. Explain your findings and understanding of these terms in detail in the report. \n",
        "\n",
        "\n"
      ]
    },
    {
      "cell_type": "markdown",
      "metadata": {
        "id": "NkrbUlOYfcKu"
      },
      "source": [
        "Import Libraries"
      ]
    },
    {
      "cell_type": "code",
      "metadata": {
        "id": "CRjDwjq4r8IR",
        "outputId": "e4d19764-a4c4-4324-a972-1336fdcdb8ab",
        "colab": {
          "base_uri": "https://localhost:8080/",
          "height": 50
        }
      },
      "source": [
        "import numpy as np \n",
        "import pandas as pd \n",
        "import seaborn as sns \n",
        "import matplotlib.pyplot as plt \n",
        "from sklearn import preprocessing, svm \n",
        "from sklearn.model_selection import train_test_split \n",
        "from sklearn.linear_model import LinearRegression \n",
        "from sklearn.metrics import mean_squared_error, r2_score \n",
        "\n",
        "import statsmodels.api as sm \n",
        "\n"
      ],
      "execution_count": 3,
      "outputs": [
        {
          "output_type": "stream",
          "text": [
            "/usr/local/lib/python3.6/dist-packages/statsmodels/tools/_testing.py:19: FutureWarning: pandas.util.testing is deprecated. Use the functions in the public API at pandas.testing instead.\n",
            "  import pandas.util.testing as tm\n"
          ],
          "name": "stderr"
        }
      ]
    },
    {
      "cell_type": "markdown",
      "metadata": {
        "id": "C0Hz3vhuflPK"
      },
      "source": [
        "Data for the Lab.\n",
        "\n",
        "We are using a data set of SAT scores, High School GPA, and Future GPA.\n",
        "\n",
        "Using the SAT scores to predict the Future GPA."
      ]
    },
    {
      "cell_type": "code",
      "metadata": {
        "id": "BUIxOA8bsuKE",
        "outputId": "9c48f3db-4cf3-4072-c637-f81caef6368b",
        "colab": {
          "base_uri": "https://localhost:8080/",
          "height": 622
        }
      },
      "source": [
        "#Data is stored in GITHUB, url to the data\n",
        "url = 'https://raw.githubusercontent.com/BillYerkes/CSC5542/master/Lab9/satgpa.csv'\n",
        "\n",
        "#Read the data and show the top 20 rows\n",
        "df = pd.read_csv(url,  error_bad_lines=False )\n",
        "df.head(20)"
      ],
      "execution_count": 4,
      "outputs": [
        {
          "output_type": "execute_result",
          "data": {
            "text/html": [
              "<div>\n",
              "<style scoped>\n",
              "    .dataframe tbody tr th:only-of-type {\n",
              "        vertical-align: middle;\n",
              "    }\n",
              "\n",
              "    .dataframe tbody tr th {\n",
              "        vertical-align: top;\n",
              "    }\n",
              "\n",
              "    .dataframe thead th {\n",
              "        text-align: right;\n",
              "    }\n",
              "</style>\n",
              "<table border=\"1\" class=\"dataframe\">\n",
              "  <thead>\n",
              "    <tr style=\"text-align: right;\">\n",
              "      <th></th>\n",
              "      <th>sex</th>\n",
              "      <th>sat_v</th>\n",
              "      <th>sat_m</th>\n",
              "      <th>sat_sum</th>\n",
              "      <th>hs_gpa</th>\n",
              "      <th>fy_gpa</th>\n",
              "    </tr>\n",
              "  </thead>\n",
              "  <tbody>\n",
              "    <tr>\n",
              "      <th>0</th>\n",
              "      <td>1</td>\n",
              "      <td>65</td>\n",
              "      <td>62</td>\n",
              "      <td>127</td>\n",
              "      <td>3.40</td>\n",
              "      <td>3.18</td>\n",
              "    </tr>\n",
              "    <tr>\n",
              "      <th>1</th>\n",
              "      <td>2</td>\n",
              "      <td>58</td>\n",
              "      <td>64</td>\n",
              "      <td>122</td>\n",
              "      <td>4.00</td>\n",
              "      <td>3.33</td>\n",
              "    </tr>\n",
              "    <tr>\n",
              "      <th>2</th>\n",
              "      <td>2</td>\n",
              "      <td>56</td>\n",
              "      <td>60</td>\n",
              "      <td>116</td>\n",
              "      <td>3.75</td>\n",
              "      <td>3.25</td>\n",
              "    </tr>\n",
              "    <tr>\n",
              "      <th>3</th>\n",
              "      <td>1</td>\n",
              "      <td>42</td>\n",
              "      <td>53</td>\n",
              "      <td>95</td>\n",
              "      <td>3.75</td>\n",
              "      <td>2.42</td>\n",
              "    </tr>\n",
              "    <tr>\n",
              "      <th>4</th>\n",
              "      <td>1</td>\n",
              "      <td>55</td>\n",
              "      <td>52</td>\n",
              "      <td>107</td>\n",
              "      <td>4.00</td>\n",
              "      <td>2.63</td>\n",
              "    </tr>\n",
              "    <tr>\n",
              "      <th>5</th>\n",
              "      <td>2</td>\n",
              "      <td>55</td>\n",
              "      <td>56</td>\n",
              "      <td>111</td>\n",
              "      <td>4.00</td>\n",
              "      <td>2.91</td>\n",
              "    </tr>\n",
              "    <tr>\n",
              "      <th>6</th>\n",
              "      <td>1</td>\n",
              "      <td>57</td>\n",
              "      <td>65</td>\n",
              "      <td>122</td>\n",
              "      <td>2.80</td>\n",
              "      <td>2.83</td>\n",
              "    </tr>\n",
              "    <tr>\n",
              "      <th>7</th>\n",
              "      <td>1</td>\n",
              "      <td>53</td>\n",
              "      <td>62</td>\n",
              "      <td>115</td>\n",
              "      <td>3.80</td>\n",
              "      <td>2.51</td>\n",
              "    </tr>\n",
              "    <tr>\n",
              "      <th>8</th>\n",
              "      <td>2</td>\n",
              "      <td>67</td>\n",
              "      <td>77</td>\n",
              "      <td>144</td>\n",
              "      <td>4.00</td>\n",
              "      <td>3.82</td>\n",
              "    </tr>\n",
              "    <tr>\n",
              "      <th>9</th>\n",
              "      <td>1</td>\n",
              "      <td>41</td>\n",
              "      <td>44</td>\n",
              "      <td>85</td>\n",
              "      <td>2.60</td>\n",
              "      <td>2.54</td>\n",
              "    </tr>\n",
              "    <tr>\n",
              "      <th>10</th>\n",
              "      <td>1</td>\n",
              "      <td>58</td>\n",
              "      <td>70</td>\n",
              "      <td>128</td>\n",
              "      <td>3.75</td>\n",
              "      <td>3.38</td>\n",
              "    </tr>\n",
              "    <tr>\n",
              "      <th>11</th>\n",
              "      <td>2</td>\n",
              "      <td>45</td>\n",
              "      <td>57</td>\n",
              "      <td>102</td>\n",
              "      <td>3.75</td>\n",
              "      <td>3.02</td>\n",
              "    </tr>\n",
              "    <tr>\n",
              "      <th>12</th>\n",
              "      <td>2</td>\n",
              "      <td>43</td>\n",
              "      <td>45</td>\n",
              "      <td>88</td>\n",
              "      <td>2.80</td>\n",
              "      <td>2.60</td>\n",
              "    </tr>\n",
              "    <tr>\n",
              "      <th>13</th>\n",
              "      <td>2</td>\n",
              "      <td>50</td>\n",
              "      <td>58</td>\n",
              "      <td>108</td>\n",
              "      <td>3.75</td>\n",
              "      <td>3.81</td>\n",
              "    </tr>\n",
              "    <tr>\n",
              "      <th>14</th>\n",
              "      <td>1</td>\n",
              "      <td>54</td>\n",
              "      <td>66</td>\n",
              "      <td>120</td>\n",
              "      <td>3.50</td>\n",
              "      <td>3.02</td>\n",
              "    </tr>\n",
              "    <tr>\n",
              "      <th>15</th>\n",
              "      <td>2</td>\n",
              "      <td>55</td>\n",
              "      <td>57</td>\n",
              "      <td>112</td>\n",
              "      <td>3.75</td>\n",
              "      <td>3.48</td>\n",
              "    </tr>\n",
              "    <tr>\n",
              "      <th>16</th>\n",
              "      <td>2</td>\n",
              "      <td>44</td>\n",
              "      <td>53</td>\n",
              "      <td>97</td>\n",
              "      <td>3.20</td>\n",
              "      <td>2.15</td>\n",
              "    </tr>\n",
              "    <tr>\n",
              "      <th>17</th>\n",
              "      <td>1</td>\n",
              "      <td>53</td>\n",
              "      <td>68</td>\n",
              "      <td>121</td>\n",
              "      <td>4.00</td>\n",
              "      <td>3.80</td>\n",
              "    </tr>\n",
              "    <tr>\n",
              "      <th>18</th>\n",
              "      <td>2</td>\n",
              "      <td>54</td>\n",
              "      <td>49</td>\n",
              "      <td>103</td>\n",
              "      <td>3.75</td>\n",
              "      <td>3.13</td>\n",
              "    </tr>\n",
              "    <tr>\n",
              "      <th>19</th>\n",
              "      <td>2</td>\n",
              "      <td>47</td>\n",
              "      <td>55</td>\n",
              "      <td>102</td>\n",
              "      <td>4.00</td>\n",
              "      <td>3.40</td>\n",
              "    </tr>\n",
              "  </tbody>\n",
              "</table>\n",
              "</div>"
            ],
            "text/plain": [
              "    sex  sat_v  sat_m  sat_sum  hs_gpa  fy_gpa\n",
              "0     1     65     62      127    3.40    3.18\n",
              "1     2     58     64      122    4.00    3.33\n",
              "2     2     56     60      116    3.75    3.25\n",
              "3     1     42     53       95    3.75    2.42\n",
              "4     1     55     52      107    4.00    2.63\n",
              "5     2     55     56      111    4.00    2.91\n",
              "6     1     57     65      122    2.80    2.83\n",
              "7     1     53     62      115    3.80    2.51\n",
              "8     2     67     77      144    4.00    3.82\n",
              "9     1     41     44       85    2.60    2.54\n",
              "10    1     58     70      128    3.75    3.38\n",
              "11    2     45     57      102    3.75    3.02\n",
              "12    2     43     45       88    2.80    2.60\n",
              "13    2     50     58      108    3.75    3.81\n",
              "14    1     54     66      120    3.50    3.02\n",
              "15    2     55     57      112    3.75    3.48\n",
              "16    2     44     53       97    3.20    2.15\n",
              "17    1     53     68      121    4.00    3.80\n",
              "18    2     54     49      103    3.75    3.13\n",
              "19    2     47     55      102    4.00    3.40"
            ]
          },
          "metadata": {
            "tags": []
          },
          "execution_count": 4
        }
      ]
    },
    {
      "cell_type": "code",
      "metadata": {
        "id": "iUJglhcYttf-",
        "outputId": "1807efcb-84a6-4a97-c922-e63c5094d1c9",
        "colab": {
          "base_uri": "https://localhost:8080/",
          "height": 327
        }
      },
      "source": [
        "\n",
        "\n",
        "\n",
        "#Assign Total SAT score to X\n",
        "#Assign Future GPA to y\n",
        "x = np.array(df['sat_sum'] )\n",
        "y = np.array(df['fy_gpa'])\n",
        "\n",
        "#Number of data points\n",
        "n = np.size(x) \n",
        "\n",
        "#Compute the x and y mean\n",
        "x_mean = np.mean(x) \n",
        "y_mean = np.mean(y) \n",
        "\n",
        "\n",
        "Sxy = np.sum(x*y)- n*x_mean*y_mean \n",
        "Sxx = np.sum(x*x)-n*x_mean*x_mean \n",
        "\n",
        "#Calculate the Slope\n",
        "slope = Sxy/Sxx \n",
        "\n",
        "#Calculate the Y intercept\n",
        "y_intercept = y_mean-slope*x_mean \n",
        "\n",
        "print('The slope is: ', slope) \n",
        "print('The Y intercept is', y_intercept) \n",
        "\n",
        "#Plot the graph\n",
        "plt.scatter(x,y) \n",
        "plt.xlabel('SAT Total is the X variable (Independent)') \n",
        "plt.ylabel('Future GPA is variable y (Dependent)') \n",
        "\n",
        "\n"
      ],
      "execution_count": 20,
      "outputs": [
        {
          "output_type": "stream",
          "text": [
            "The slope is:  0.02386573594038181\n",
            "The Y intercept is 0.0019273710162877045\n"
          ],
          "name": "stdout"
        },
        {
          "output_type": "execute_result",
          "data": {
            "text/plain": [
              "Text(0, 0.5, 'Future GPA is variable y (Dependent)')"
            ]
          },
          "metadata": {
            "tags": []
          },
          "execution_count": 20
        },
        {
          "output_type": "display_data",
          "data": {
            "image/png": "[encoded data removed]",
            "text/plain": [
              "<Figure size 432x288 with 1 Axes>"
            ]
          },
          "metadata": {
            "tags": [],
            "needs_background": "light"
          }
        }
      ]
    },
    {
      "cell_type": "markdown",
      "metadata": {
        "id": "ZkMSfneRhgqe"
      },
      "source": [
        "Draw the graph with the projection line superemposed."
      ]
    },
    {
      "cell_type": "code",
      "metadata": {
        "id": "VsQ_dfY0MBD3",
        "outputId": "7c83351b-c35f-4b0d-bf85-784b0a99421c",
        "colab": {
          "base_uri": "https://localhost:8080/",
          "height": 295
        }
      },
      "source": [
        "y_pred = slope * x + y_intercept \n",
        "\n",
        "plt.scatter(x, y, color = 'orange') \n",
        "plt.plot(x, y_pred, color = 'black') \n",
        "plt.xlabel('X') \n",
        "plt.ylabel('y') \n"
      ],
      "execution_count": 21,
      "outputs": [
        {
          "output_type": "execute_result",
          "data": {
            "text/plain": [
              "Text(0, 0.5, 'y')"
            ]
          },
          "metadata": {
            "tags": []
          },
          "execution_count": 21
        },
        {
          "output_type": "display_data",
          "data": {
            "image/png": "[encoded data removed]",
            "text/plain": [
              "<Figure size 432x288 with 1 Axes>"
            ]
          },
          "metadata": {
            "tags": [],
            "needs_background": "light"
          }
        }
      ]
    },
    {
      "cell_type": "markdown",
      "metadata": {
        "id": "O-CkGUFNiIy5"
      },
      "source": [
        "Compute the Mean square error"
      ]
    },
    {
      "cell_type": "code",
      "metadata": {
        "id": "natUp9sIMHDT",
        "outputId": "8728a12a-7c90-41b0-8638-362914fcea80",
        "colab": {
          "base_uri": "https://localhost:8080/",
          "height": 66
        }
      },
      "source": [
        "error = y - y_pred \n",
        "se = np.sum(error**2) \n",
        "\n",
        "print('The slope is: ', slope) \n",
        "print('The Y intercept is', y_intercept) \n",
        "\n",
        "mse = se/n \n",
        "print('mean squared error is', mse) \n",
        "\n"
      ],
      "execution_count": 25,
      "outputs": [
        {
          "output_type": "stream",
          "text": [
            "The slope is:  0.02386573594038181\n",
            "The Y intercept is 0.0019273710162877045\n",
            "mean squared error is 0.43209338896546545\n"
          ],
          "name": "stdout"
        }
      ]
    },
    {
      "cell_type": "markdown",
      "metadata": {
        "id": "Ihso6fyaiaTD"
      },
      "source": [
        "Use the Linear Regression object to compute the slope, y intercept, mean squered error, and sum of squere error"
      ]
    },
    {
      "cell_type": "code",
      "metadata": {
        "id": "JG3SLOE0MNFz",
        "outputId": "e92dc856-bbb6-4506-fcbb-a842c756a0ba",
        "colab": {
          "base_uri": "https://localhost:8080/",
          "height": 66
        }
      },
      "source": [
        "#Reshape the data to use the linear regression object\n",
        "x = x.reshape(-1,1) \n",
        "regressionModel = LinearRegression() \n",
        "\n",
        "# Fit the data and train the model\n",
        "regressionModel.fit(x, y) \n",
        "\n",
        "# Make prediction\n",
        "y_predicted = regressionModel.predict(x) \n",
        "\n",
        "# Evaluate the Model\n",
        "mse=mean_squared_error(y,y_predicted) \n",
        "\n",
        "# Print the Values\n",
        "print('The slope is:' ,regressionModel.coef_[0]) \n",
        "print('The Y intercept is:', regressionModel.intercept_) \n",
        "print('mean squared error is:',mse) \n",
        "\n",
        " \n"
      ],
      "execution_count": 26,
      "outputs": [
        {
          "output_type": "stream",
          "text": [
            "The slope is: 0.023865735940381817\n",
            "The Y intercept is: 0.0019273710162872604\n",
            "mean squared error is: 0.43209338896546545\n"
          ],
          "name": "stdout"
        }
      ]
    },
    {
      "cell_type": "code",
      "metadata": {
        "id": "ELijvmp_LDKn"
      },
      "source": [
        ""
      ],
      "execution_count": null,
      "outputs": []
    }
  ]
}