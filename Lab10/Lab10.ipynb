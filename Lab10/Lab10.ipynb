{
  "nbformat": 4,
  "nbformat_minor": 0,
  "metadata": {
    "colab": {
      "name": "Lab10.ipynb",
      "provenance": [],
      "collapsed_sections": []
    },
    "kernelspec": {
      "name": "python3",
      "display_name": "Python 3"
    },
    "accelerator": "GPU"
  },
  "cells": [
    {
      "cell_type": "markdown",
      "metadata": {
        "id": "daUZAcCKDaVN"
      },
      "source": [
        "Load Libraries"
      ]
    },
    {
      "cell_type": "code",
      "metadata": {
        "id": "1XDvssQd64Pf"
      },
      "source": [
        "!apt-get install -y xvfb python-opengl > /dev/null 2>&1\n",
        "!pip install gym pyvirtualdisplay > /dev/null 2>&1"
      ],
      "execution_count": 2,
      "outputs": []
    },
    {
      "cell_type": "markdown",
      "metadata": {
        "id": "vKcBGZs0DedU"
      },
      "source": [
        "Import Modules\n",
        "\n",
        "Gym for the Game\n",
        "\n",
        "Matplotlib for drawing\n",
        "\n",
        "IPython for drawing\n",
        "\n",
        "Karas for Learning"
      ]
    },
    {
      "cell_type": "code",
      "metadata": {
        "id": "Qbi2xaFo31Sj"
      },
      "source": [
        "import gym\n",
        "import numpy as np\n",
        "import random\n",
        "import matplotlib.pyplot as plt\n",
        "from IPython import display as ipythondisplay\n",
        "from pyvirtualdisplay import Display\n",
        "\n",
        "from keras.models     import Sequential\n",
        "from keras.layers     import Dense\n",
        "from keras.optimizers import Adam\n"
      ],
      "execution_count": 3,
      "outputs": []
    },
    {
      "cell_type": "markdown",
      "metadata": {
        "id": "82Oozu05D8VC"
      },
      "source": [
        "Start display so we can show the cart pole game"
      ]
    },
    {
      "cell_type": "code",
      "metadata": {
        "id": "FGqXqJxoAsHG",
        "outputId": "5edad425-e70d-4002-9f2f-04aafe67d31a",
        "colab": {
          "base_uri": "https://localhost:8080/"
        }
      },
      "source": [
        "\n",
        "display = Display(visible=0, size=(400, 300))\n",
        "display.start()"
      ],
      "execution_count": 4,
      "outputs": [
        {
          "output_type": "execute_result",
          "data": {
            "text/plain": [
              "<pyvirtualdisplay.display.Display at 0x7fd5d6e24d30>"
            ]
          },
          "metadata": {
            "tags": []
          },
          "execution_count": 4
        }
      ]
    },
    {
      "cell_type": "markdown",
      "metadata": {
        "id": "qZXOslzuEBvJ"
      },
      "source": [
        "Inialize Variables"
      ]
    },
    {
      "cell_type": "code",
      "metadata": {
        "id": "jAe8IbWRqMl6"
      },
      "source": [
        "env = gym.make('CartPole-v1')\n",
        "env.reset()\n",
        "goalSteps = 500\n",
        "scoreRequirement = 60\n",
        "intialGames = 10000"
      ],
      "execution_count": 5,
      "outputs": []
    },
    {
      "cell_type": "markdown",
      "metadata": {
        "id": "vRm-7wl4JlQj"
      },
      "source": [
        "Module to display the Cart Pole game"
      ]
    },
    {
      "cell_type": "code",
      "metadata": {
        "id": "jK2JMwqdrKA5"
      },
      "source": [
        "def showCartPole():\n",
        "        screen = env.render(mode='rgb_array')\n",
        "        plt.imshow(screen)\n",
        "        ipythondisplay.clear_output(wait=True)\n",
        "        ipythondisplay.display(plt.gcf())\n"
      ],
      "execution_count": 6,
      "outputs": []
    },
    {
      "cell_type": "markdown",
      "metadata": {
        "id": "eCwyuoYmJp6Z"
      },
      "source": [
        "Modeule to play random game"
      ]
    },
    {
      "cell_type": "code",
      "metadata": {
        "id": "xdaaxILSqSxv"
      },
      "source": [
        "def playRandomGame():\n",
        "    #reset environment\n",
        "    env.reset()\n",
        "\n",
        "    #set up display\n",
        "    prevScreen = env.render(mode='rgb_array')\n",
        "    plt.imshow(prevScreen)\n",
        "\n",
        "    #Play game\n",
        "    for step in range(goalSteps):\n",
        "\n",
        "        action = env.action_space.sample()\n",
        "        observation, reward, done, info = env.step(action)\n",
        "\n",
        "        #Show the cart pole\n",
        "        showCartPole()\n",
        "\n",
        "        #Show stats\n",
        "        print(\"Step:        {}\".format(step))\n",
        "        print(\"action:      {}\".format(action))\n",
        "        print(\"observation: {}\".format(observation))\n",
        "        print(\"reward:      {}\".format(reward))\n",
        "        print(\"done:        {}\".format(done))\n",
        "        print(\"info:        {}\".format(info))\n",
        "\n",
        "        #If we are finised exit routine\n",
        "        if done:\n",
        "            break\n",
        "\n",
        "    #Clean up\n",
        "    env.reset()\n",
        "    ipythondisplay.clear_output(wait=True)\n",
        "    env.close()"
      ],
      "execution_count": 8,
      "outputs": []
    },
    {
      "cell_type": "code",
      "metadata": {
        "id": "f4Y8PajtqYEH",
        "outputId": "c62ff659-d78e-41a5-e590-18c31d8143b0",
        "colab": {
          "base_uri": "https://localhost:8080/",
          "height": 269
        }
      },
      "source": [
        "playRandomGame()"
      ],
      "execution_count": 9,
      "outputs": [
        {
          "output_type": "display_data",
          "data": {
            "image/png": "[encoded data removed]",
            "text/plain": [
              "<Figure size 432x288 with 1 Axes>"
            ]
          },
          "metadata": {
            "tags": [],
            "needs_background": "light"
          }
        }
      ]
    },
    {
      "cell_type": "markdown",
      "metadata": {
        "id": "KIDU64ygJunr"
      },
      "source": [
        "Module to create training data"
      ]
    },
    {
      "cell_type": "code",
      "metadata": {
        "id": "2UdOrV-hriKc"
      },
      "source": [
        "def modelData():\n",
        "\n",
        "    #init variables\n",
        "    trainingData = []\n",
        "    scores = []\n",
        "\n",
        "    #Play Games\n",
        "    for gameIndex in range(intialGames):\n",
        "        score = 0\n",
        "        gameMemory = []\n",
        "        previousObservation = []\n",
        "\n",
        "        #Game Turns\n",
        "        for index in range(goalSteps):\n",
        "            action = random.randrange(0, 2)\n",
        "            observation, reward, done, info = env.step(action)\n",
        "            \n",
        "            if len(previousObservation) > 0:\n",
        "                gameMemory.append([previousObservation, action])\n",
        "                \n",
        "            previousObservation = observation\n",
        "            score += reward\n",
        "\n",
        "            #Can we stop\n",
        "            if done:\n",
        "                break\n",
        "\n",
        "        #Did we reach the required score\n",
        "        if score >= scoreRequirement:\n",
        "            scores.append(score)\n",
        "            for data in gameMemory:\n",
        "                if data[1] == 1:\n",
        "                    output = [0, 1]\n",
        "                elif data[1] == 0:\n",
        "                    output = [1, 0]\n",
        "                trainingData.append([data[0], output])\n",
        "        \n",
        "        #Clean up\n",
        "        env.reset()\n",
        "\n",
        "    print(scores)\n",
        "    \n",
        "    return trainingData"
      ],
      "execution_count": 10,
      "outputs": []
    },
    {
      "cell_type": "code",
      "metadata": {
        "id": "g23wgOfxrl-D",
        "outputId": "f573ea7f-f36f-4446-9638-27304983f2cb",
        "colab": {
          "base_uri": "https://localhost:8080/"
        }
      },
      "source": [
        "trainingData = modelData()"
      ],
      "execution_count": 11,
      "outputs": [
        {
          "output_type": "stream",
          "text": [
            "[104.0, 65.0, 66.0, 60.0, 71.0, 82.0, 96.0, 95.0, 103.0, 75.0, 65.0, 60.0, 62.0, 61.0, 79.0, 72.0, 64.0, 66.0, 68.0, 88.0, 60.0, 61.0, 61.0, 62.0, 88.0, 73.0, 62.0, 61.0, 61.0, 65.0, 64.0, 60.0, 64.0, 68.0, 74.0, 73.0, 67.0, 91.0, 70.0, 66.0, 80.0, 60.0, 84.0, 64.0, 84.0, 68.0, 66.0, 89.0, 67.0, 64.0, 63.0, 64.0, 77.0, 86.0, 66.0, 67.0, 63.0, 69.0, 69.0, 62.0, 71.0, 71.0, 90.0, 63.0, 71.0, 61.0, 71.0, 60.0, 61.0, 60.0, 83.0, 61.0, 64.0, 62.0, 60.0, 76.0, 70.0, 62.0, 60.0, 77.0, 62.0, 62.0, 66.0, 63.0, 65.0, 67.0, 60.0, 60.0, 63.0, 60.0, 78.0, 71.0, 68.0, 60.0, 75.0, 61.0, 77.0, 60.0, 63.0, 67.0, 68.0, 65.0, 71.0, 87.0, 69.0, 63.0, 63.0, 63.0, 136.0, 71.0, 71.0, 66.0, 63.0, 62.0, 82.0, 60.0, 63.0, 65.0, 76.0, 86.0, 98.0, 81.0, 76.0, 69.0, 62.0, 67.0, 60.0, 69.0, 60.0, 69.0, 96.0, 63.0, 66.0, 60.0, 65.0, 62.0, 64.0, 63.0, 65.0, 70.0, 67.0, 60.0, 71.0, 81.0, 64.0, 61.0, 80.0, 65.0, 61.0, 74.0, 60.0, 69.0, 68.0, 73.0, 61.0, 68.0, 62.0, 63.0, 102.0, 69.0, 75.0, 81.0, 86.0, 62.0, 75.0, 65.0, 88.0, 73.0, 108.0, 63.0, 63.0, 67.0, 89.0, 74.0, 68.0, 82.0, 69.0]\n"
          ],
          "name": "stdout"
        }
      ]
    },
    {
      "cell_type": "markdown",
      "metadata": {
        "id": "xOcvFsiEJ0ij"
      },
      "source": [
        "Module to construct the model to play the game"
      ]
    },
    {
      "cell_type": "code",
      "metadata": {
        "id": "KjseREm-rwKo"
      },
      "source": [
        "def buildModel(inputSize, outputSize):\n",
        "    model = Sequential()\n",
        "    model.add(Dense(256, input_dim=inputSize, activation='relu'))\n",
        "    model.add(Dense(52, activation='relu'))\n",
        "    model.add(Dense(outputSize, activation='linear'))\n",
        "    model.compile(loss='mse', optimizer=Adam())\n",
        "\n",
        "    return model"
      ],
      "execution_count": 12,
      "outputs": []
    },
    {
      "cell_type": "markdown",
      "metadata": {
        "id": "l-qU7m5QJ4Be"
      },
      "source": [
        "Module to train the model to play the game"
      ]
    },
    {
      "cell_type": "code",
      "metadata": {
        "id": "NlXSvb22r1Fz"
      },
      "source": [
        "\n",
        "def trainModel(trainingData):\n",
        "    X = np.array([i[0] for i in trainingData]).reshape(-1, len(trainingData[0][0]))\n",
        "    y = np.array([i[1] for i in trainingData]).reshape(-1, len(trainingData[0][1]))\n",
        "    model = buildModel(inputSize=len(X[0]), outputSize=len(y[0]))\n",
        "    \n",
        "    model.fit(X, y, epochs=20)\n",
        "    return model"
      ],
      "execution_count": 13,
      "outputs": []
    },
    {
      "cell_type": "code",
      "metadata": {
        "id": "wtup5-h4r48G",
        "outputId": "d9d444c6-e1c3-4644-a57d-90b07eddcee1",
        "colab": {
          "base_uri": "https://localhost:8080/"
        }
      },
      "source": [
        "trainModel = trainModel(trainingData)"
      ],
      "execution_count": 14,
      "outputs": [
        {
          "output_type": "stream",
          "text": [
            "Epoch 1/20\n",
            "383/383 [==============================] - 1s 2ms/step - loss: 0.2461\n",
            "Epoch 2/20\n",
            "383/383 [==============================] - 1s 2ms/step - loss: 0.2351\n",
            "Epoch 3/20\n",
            "383/383 [==============================] - 1s 2ms/step - loss: 0.2337\n",
            "Epoch 4/20\n",
            "383/383 [==============================] - 1s 2ms/step - loss: 0.2326\n",
            "Epoch 5/20\n",
            "383/383 [==============================] - 1s 2ms/step - loss: 0.2328\n",
            "Epoch 6/20\n",
            "383/383 [==============================] - 1s 2ms/step - loss: 0.2319\n",
            "Epoch 7/20\n",
            "383/383 [==============================] - 1s 2ms/step - loss: 0.2321\n",
            "Epoch 8/20\n",
            "383/383 [==============================] - 1s 2ms/step - loss: 0.2317\n",
            "Epoch 9/20\n",
            "383/383 [==============================] - 1s 2ms/step - loss: 0.2312\n",
            "Epoch 10/20\n",
            "383/383 [==============================] - 1s 2ms/step - loss: 0.2311\n",
            "Epoch 11/20\n",
            "383/383 [==============================] - 1s 2ms/step - loss: 0.2312\n",
            "Epoch 12/20\n",
            "383/383 [==============================] - 1s 2ms/step - loss: 0.2305\n",
            "Epoch 13/20\n",
            "383/383 [==============================] - 1s 2ms/step - loss: 0.2307\n",
            "Epoch 14/20\n",
            "383/383 [==============================] - 1s 2ms/step - loss: 0.2305\n",
            "Epoch 15/20\n",
            "383/383 [==============================] - 1s 2ms/step - loss: 0.2305\n",
            "Epoch 16/20\n",
            "383/383 [==============================] - 1s 2ms/step - loss: 0.2301\n",
            "Epoch 17/20\n",
            "383/383 [==============================] - 1s 2ms/step - loss: 0.2301\n",
            "Epoch 18/20\n",
            "383/383 [==============================] - 1s 2ms/step - loss: 0.2301\n",
            "Epoch 19/20\n",
            "383/383 [==============================] - 1s 2ms/step - loss: 0.2303\n",
            "Epoch 20/20\n",
            "383/383 [==============================] - 1s 2ms/step - loss: 0.2297\n"
          ],
          "name": "stdout"
        }
      ]
    },
    {
      "cell_type": "markdown",
      "metadata": {
        "id": "JsUd7TLzJ9Kc"
      },
      "source": [
        "Run simulation"
      ]
    },
    {
      "cell_type": "code",
      "metadata": {
        "id": "6GU9_mvCsCAl",
        "outputId": "3f7d1c96-0328-4a1e-9d6d-8bf0d160bd57",
        "colab": {
          "base_uri": "https://localhost:8080/"
        }
      },
      "source": [
        "#Init variables\n",
        "scores = []\n",
        "choices = []\n",
        "i = 0\n",
        "\n",
        "#process all the games\n",
        "for eachGame in range(100):\n",
        "    #Give feed back to screen to see what is happening\n",
        "    i = i + 1\n",
        "    print(i)\n",
        "\n",
        "    #Track score and observation\n",
        "    score = 0\n",
        "    previousObservastions = []\n",
        "\n",
        "    for index in range(goalSteps):\n",
        "\n",
        "        showCartPole()\n",
        "\n",
        "        if len(previousObservastions)==0:\n",
        "            action = random.randrange(0,2)\n",
        "        else:\n",
        "            action = np.argmax(trainModel.predict(previousObservastions.reshape(-1, len(previousObservastions)))[0])\n",
        "        \n",
        "        choices.append(action)\n",
        "        newOobservation, reward, done, info = env.step(action)\n",
        "        previousObservastions = newOobservation\n",
        "        score = score + reward\n",
        "\n",
        "        #can we exit\n",
        "        if done:\n",
        "            break\n",
        "\n",
        "    #Finished game log score, reset enviornment\n",
        "    env.reset()\n",
        "    scores.append(score)\n",
        "\n",
        "    #Give feed back to screen and show score\n",
        "    print(i, score)\n",
        "\n",
        "#Shoow all scores and average\n",
        "print(scores)\n",
        "print('Average Score:',sum(scores)/len(scores))\n"
      ],
      "execution_count": null,
      "outputs": [
        {
          "output_type": "stream",
          "text": [
            "1\n"
          ],
          "name": "stdout"
        }
      ]
    },
    {
      "cell_type": "code",
      "metadata": {
        "id": "xoantCmXAtSN",
        "outputId": "f88cf361-87bc-468d-866d-a5c274ee7044",
        "colab": {
          "base_uri": "https://localhost:8080/"
        }
      },
      "source": [
        "display.stop()"
      ],
      "execution_count": null,
      "outputs": [
        {
          "output_type": "execute_result",
          "data": {
            "text/plain": [
              "<pyvirtualdisplay.display.Display at 0x7f196e2124e0>"
            ]
          },
          "metadata": {
            "tags": []
          },
          "execution_count": 6
        }
      ]
    }
  ]
}