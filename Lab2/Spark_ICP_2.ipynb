{
  "nbformat": 4,
  "nbformat_minor": 0,
  "metadata": {
    "colab": {
      "name": "Spark_ICP_2.ipynb",
      "provenance": [],
      "include_colab_link": true
    },
    "kernelspec": {
      "name": "python3",
      "display_name": "Python 3"
    }
  },
  "cells": [
    {
      "cell_type": "markdown",
      "metadata": {
        "id": "view-in-github",
        "colab_type": "text"
      },
      "source": [
        "<a href=\"https://colab.research.google.com/github/BillYerkes/CSC5542/blob/master/Lab2/Spark_ICP_2.ipynb\" target=\"_parent\"><img src=\"https://colab.research.google.com/assets/colab-badge.svg\" alt=\"Open In Colab\"/></a>"
      ]
    },
    {
      "cell_type": "code",
      "metadata": {
        "id": "0uJKsuiNRZRN",
        "colab_type": "code",
        "colab": {}
      },
      "source": [
        "!apt-get install openjdk-8-jdk-headless -qq > /dev/null\n",
        "!wget -q https://downloads.apache.org/spark/spark-3.0.0/spark-3.0.0-bin-hadoop3.2.tgz\n",
        "!tar xf spark-3.0.0-bin-hadoop3.2.tgz\n",
        "!pip install -q findspark"
      ],
      "execution_count": null,
      "outputs": []
    },
    {
      "cell_type": "code",
      "metadata": {
        "id": "piI4L6qK4QKb",
        "colab_type": "code",
        "colab": {
          "base_uri": "https://localhost:8080/",
          "height": 34
        },
        "outputId": "480898f3-234f-4564-ac62-bcb1ef43ca7c"
      },
      "source": [
        "from google.colab import drive\n",
        "drive.mount('/content/drive')"
      ],
      "execution_count": 43,
      "outputs": [
        {
          "output_type": "stream",
          "text": [
            "Drive already mounted at /content/drive; to attempt to forcibly remount, call drive.mount(\"/content/drive\", force_remount=True).\n"
          ],
          "name": "stdout"
        }
      ]
    },
    {
      "cell_type": "code",
      "metadata": {
        "id": "4ZE_O-ZRa857",
        "colab_type": "code",
        "colab": {
          "base_uri": "https://localhost:8080/",
          "height": 51
        },
        "outputId": "b5119613-a99e-4149-d4cd-d0cf32b1f5c0"
      },
      "source": [
        "!ls /usr/lib/jvm/"
      ],
      "execution_count": 5,
      "outputs": [
        {
          "output_type": "stream",
          "text": [
            "default-java\t\t   java-11-openjdk-amd64     java-8-openjdk-amd64\n",
            "java-1.11.0-openjdk-amd64  java-1.8.0-openjdk-amd64\n"
          ],
          "name": "stdout"
        }
      ]
    },
    {
      "cell_type": "code",
      "metadata": {
        "id": "Ok2fnNbd-KH2",
        "colab_type": "code",
        "colab": {}
      },
      "source": [
        "import os\n",
        "os.environ[\"JAVA_HOME\"] = \"/usr/lib/jvm/java-8-openjdk-amd64\"\n",
        "os.environ[\"SPARK_HOME\"] = \"/content/spark-3.0.0-bin-hadoop3.2\""
      ],
      "execution_count": 6,
      "outputs": []
    },
    {
      "cell_type": "code",
      "metadata": {
        "id": "G0rSrOXq-e8T",
        "colab_type": "code",
        "colab": {
          "base_uri": "https://localhost:8080/",
          "height": 238
        },
        "outputId": "87fca221-23ea-40fc-a0fc-159fd29fea0a"
      },
      "source": [
        "!pip install pyspark\n"
      ],
      "execution_count": 7,
      "outputs": [
        {
          "output_type": "stream",
          "text": [
            "Collecting pyspark\n",
            "\u001b[?25l  Downloading https://files.pythonhosted.org/packages/8e/b0/bf9020b56492281b9c9d8aae8f44ff51e1bc91b3ef5a884385cb4e389a40/pyspark-3.0.0.tar.gz (204.7MB)\n",
            "\u001b[K     |████████████████████████████████| 204.7MB 29kB/s \n",
            "\u001b[?25hCollecting py4j==0.10.9\n",
            "\u001b[?25l  Downloading https://files.pythonhosted.org/packages/9e/b6/6a4fb90cd235dc8e265a6a2067f2a2c99f0d91787f06aca4bcf7c23f3f80/py4j-0.10.9-py2.py3-none-any.whl (198kB)\n",
            "\u001b[K     |████████████████████████████████| 204kB 28.9MB/s \n",
            "\u001b[?25hBuilding wheels for collected packages: pyspark\n",
            "  Building wheel for pyspark (setup.py) ... \u001b[?25l\u001b[?25hdone\n",
            "  Created wheel for pyspark: filename=pyspark-3.0.0-py2.py3-none-any.whl size=205044184 sha256=e7aeb3adab60b3b377e98c450bc7497306cc931c53f00701cb1f051d8a0e0fda\n",
            "  Stored in directory: /root/.cache/pip/wheels/57/27/4d/ddacf7143f8d5b76c45c61ee2e43d9f8492fc5a8e78ebd7d37\n",
            "Successfully built pyspark\n",
            "Installing collected packages: py4j, pyspark\n",
            "Successfully installed py4j-0.10.9 pyspark-3.0.0\n"
          ],
          "name": "stdout"
        }
      ]
    },
    {
      "cell_type": "markdown",
      "metadata": {
        "id": "HyI9uFiqynEa",
        "colab_type": "text"
      },
      "source": [
        "Configuring a SparkSession\n",
        "\n",
        "The entry point to using Spark SQL is an object called SparkSession. It initiates a Spark Application which all the code for that Session will run on.\n",
        "\n",
        ".builder — gives access to Builder API which is used to configure the session .\n",
        "\n",
        ".master() — determines where the program will run; \"local[*]\" sets it to run locally on all cores but you can use \"local[1]\" to run on one core for example. In this case, our programs will be run on Google’s servers.\n",
        "\n",
        ".appName() — optional method to name the Spark Application\n",
        "\n",
        ".getOrCreate() — gets an existing SparkSession or creates new one if none exists"
      ]
    },
    {
      "cell_type": "code",
      "metadata": {
        "id": "pXFCPjS9ArVs",
        "colab_type": "code",
        "colab": {}
      },
      "source": [
        "from pyspark.sql import SparkSession\n",
        "spark = SparkSession.builder.master(\"local[*]\").appName(\"Big_Data_Application\").getOrCreate()"
      ],
      "execution_count": 10,
      "outputs": []
    },
    {
      "cell_type": "markdown",
      "metadata": {
        "id": "uSRfg8l9z_Sr",
        "colab_type": "text"
      },
      "source": [
        "To open a local file on Google Colab you need to run the following code which will prompt you to select a file from your computer:"
      ]
    },
    {
      "cell_type": "code",
      "metadata": {
        "id": "1nrU95Xpz_v4",
        "colab_type": "code",
        "colab": {
          "resources": {
            "http://localhost:8080/nbextensions/google.colab/files.js": {
              "data": "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",
              "ok": true,
              "headers": [
                [
                  "content-type",
                  "application/javascript"
                ]
              ],
              "status": 200,
              "status_text": ""
            }
          },
          "base_uri": "https://localhost:8080/",
          "height": 109
        },
        "outputId": "13320576-ca50-4e82-aa24-b660ba9a0301"
      },
      "source": [
        "from google.colab import files\n",
        "files.upload()"
      ],
      "execution_count": 31,
      "outputs": [
        {
          "output_type": "display_data",
          "data": {
            "text/html": [
              "\n",
              "     <input type=\"file\" id=\"files-66d7db45-6600-432e-8b65-f4b4b94e1c18\" name=\"files[]\" multiple disabled\n",
              "        style=\"border:none\" />\n",
              "     <output id=\"result-66d7db45-6600-432e-8b65-f4b4b94e1c18\">\n",
              "      Upload widget is only available when the cell has been executed in the\n",
              "      current browser session. Please rerun this cell to enable.\n",
              "      </output>\n",
              "      <script src=\"/nbextensions/google.colab/files.js\"></script> "
            ],
            "text/plain": [
              "<IPython.core.display.HTML object>"
            ]
          },
          "metadata": {
            "tags": []
          }
        },
        {
          "output_type": "stream",
          "text": [
            "Saving icp2.txt to icp2.txt\n"
          ],
          "name": "stdout"
        },
        {
          "output_type": "execute_result",
          "data": {
            "text/plain": [
              "{'icp2.txt': b'The University of South Carolina reports that more than 1,000 students currently have the virus.\\r\\nThe C.D.C. tells health officials to be ready to distribute a vaccine by November, raising concerns over politicized timing.\\r\\nIn Iowa, college students staged a sickout, and a football opener won\\xe2\\x80\\x99t have fans after all.\\r\\nVirus fallout from the Sturgis motorcycle rally: A death in Minnesota, cases in South Dakota and more.\\r\\nNew studies show inexpensive steroid drugs can help critically sick people survive Covid-19.\\r\\nSilvio Berlusconi, Italy\\xe2\\x80\\x99s former prime minister, tests positive.\\r\\nA judge orders the University of California to stop considering SAT or ACT scores because of the pandemic.'}"
            ]
          },
          "metadata": {
            "tags": []
          },
          "execution_count": 31
        }
      ]
    },
    {
      "cell_type": "markdown",
      "metadata": {
        "id": "jIOUY8Kozqi4",
        "colab_type": "text"
      },
      "source": [
        "Load the data from the text file and split the data into \"word\", splitting on spaces."
      ]
    },
    {
      "cell_type": "code",
      "metadata": {
        "id": "aVTWGQuWRff0",
        "colab_type": "code",
        "colab": {}
      },
      "source": [
        "sc = spark.sparkContext\n",
        "\n",
        "words = sc.textFile('icp2.txt').flatMap(lambda line: line.split(\" \"))\n"
      ],
      "execution_count": 51,
      "outputs": []
    },
    {
      "cell_type": "markdown",
      "metadata": {
        "id": "gys5EUOG1kl0",
        "colab_type": "text"
      },
      "source": [
        "Map the words by their starting Letter\n"
      ]
    },
    {
      "cell_type": "code",
      "metadata": {
        "id": "UEflR3Cujk4P",
        "colab_type": "code",
        "colab": {
          "base_uri": "https://localhost:8080/",
          "height": 34
        },
        "outputId": "9d9195bf-be84-4f25-fea7-3b297e9e216f"
      },
      "source": [
        "wMap = words.map(lambda x: (x[0], x))"
      ],
      "execution_count": 83,
      "outputs": [
        {
          "output_type": "stream",
          "text": [
            "106\n"
          ],
          "name": "stdout"
        }
      ]
    },
    {
      "cell_type": "markdown",
      "metadata": {
        "id": "N5H3T7yL2CfM",
        "colab_type": "text"
      },
      "source": [
        "Reduce the Map, grouping words together, which start with the same first Letter."
      ]
    },
    {
      "cell_type": "code",
      "metadata": {
        "id": "jypzUb3Hc0gf",
        "colab_type": "code",
        "colab": {}
      },
      "source": [
        "wMap2 = wMap.reduceByKey(lambda a,b: a + ' ' + b).collect()"
      ],
      "execution_count": null,
      "outputs": []
    },
    {
      "cell_type": "markdown",
      "metadata": {
        "id": "o_uJvKcudFBT",
        "colab_type": "text"
      },
      "source": [
        "Display the Contents of the Map and Reduce"
      ]
    },
    {
      "cell_type": "code",
      "metadata": {
        "id": "LINDomMAdPw7",
        "colab_type": "code",
        "colab": {
          "base_uri": "https://localhost:8080/",
          "height": 122
        },
        "outputId": "fea66719-4fbd-4216-fb48-bd7bf08fd374"
      },
      "source": [
        "mapping = wMap.collect()\n",
        "print(\"Map: \")\n",
        "print(mapping)\n",
        "print(\" \")\n",
        "print(\"Reduce: \")\n",
        "print(wMap2)"
      ],
      "execution_count": 92,
      "outputs": [
        {
          "output_type": "stream",
          "text": [
            "Map: \n",
            "[('T', 'The'), ('U', 'University'), ('o', 'of'), ('S', 'South'), ('C', 'Carolina'), ('r', 'reports'), ('t', 'that'), ('m', 'more'), ('t', 'than'), ('1', '1,000'), ('s', 'students'), ('c', 'currently'), ('h', 'have'), ('t', 'the'), ('v', 'virus.'), ('T', 'The'), ('C', 'C.D.C.'), ('t', 'tells'), ('h', 'health'), ('o', 'officials'), ('t', 'to'), ('b', 'be'), ('r', 'ready'), ('t', 'to'), ('d', 'distribute'), ('a', 'a'), ('v', 'vaccine'), ('b', 'by'), ('N', 'November,'), ('r', 'raising'), ('c', 'concerns'), ('o', 'over'), ('p', 'politicized'), ('t', 'timing.'), ('I', 'In'), ('I', 'Iowa,'), ('c', 'college'), ('s', 'students'), ('s', 'staged'), ('a', 'a'), ('s', 'sickout,'), ('a', 'and'), ('a', 'a'), ('f', 'football'), ('o', 'opener'), ('w', 'won’t'), ('h', 'have'), ('f', 'fans'), ('a', 'after'), ('a', 'all.'), ('V', 'Virus'), ('f', 'fallout'), ('f', 'from'), ('t', 'the'), ('S', 'Sturgis'), ('m', 'motorcycle'), ('r', 'rally:'), ('A', 'A'), ('d', 'death'), ('i', 'in'), ('M', 'Minnesota,'), ('c', 'cases'), ('i', 'in'), ('S', 'South'), ('D', 'Dakota'), ('a', 'and'), ('m', 'more.'), ('N', 'New'), ('s', 'studies'), ('s', 'show'), ('i', 'inexpensive'), ('s', 'steroid'), ('d', 'drugs'), ('c', 'can'), ('h', 'help'), ('c', 'critically'), ('s', 'sick'), ('p', 'people'), ('s', 'survive'), ('C', 'Covid-19.'), ('S', 'Silvio'), ('B', 'Berlusconi,'), ('I', 'Italy’s'), ('f', 'former'), ('p', 'prime'), ('m', 'minister,'), ('t', 'tests'), ('p', 'positive.'), ('A', 'A'), ('j', 'judge'), ('o', 'orders'), ('t', 'the'), ('U', 'University'), ('o', 'of'), ('C', 'California'), ('t', 'to'), ('s', 'stop'), ('c', 'considering'), ('S', 'SAT'), ('o', 'or'), ('A', 'ACT'), ('s', 'scores'), ('b', 'because'), ('o', 'of'), ('t', 'the'), ('p', 'pandemic.')]\n",
            " \n",
            "Reduce: \n",
            "[('S', 'South Sturgis South Silvio SAT'), ('C', 'Carolina C.D.C. Covid-19. California'), ('r', 'reports ready raising rally:'), ('1', '1,000'), ('s', 'students students staged sickout, studies show steroid sick survive stop scores'), ('c', 'currently concerns college cases can critically considering'), ('h', 'have health have help'), ('b', 'be by because'), ('d', 'distribute death drugs'), ('N', 'November, New'), ('p', 'politicized people prime positive. pandemic.'), ('i', 'in in inexpensive'), ('j', 'judge'), ('T', 'The The'), ('U', 'University University'), ('o', 'of officials over opener orders of or of'), ('t', 'that than the tells to to timing. the tests the to the'), ('m', 'more motorcycle more. minister,'), ('v', 'virus. vaccine'), ('a', 'a a and a after all. and'), ('I', 'In Iowa, Italy’s'), ('f', 'football fans fallout from former'), ('w', 'won’t'), ('V', 'Virus'), ('A', 'A A ACT'), ('M', 'Minnesota,'), ('D', 'Dakota'), ('B', 'Berlusconi,')]\n"
          ],
          "name": "stdout"
        }
      ]
    },
    {
      "cell_type": "markdown",
      "metadata": {
        "id": "Tko8o6PUdh9B",
        "colab_type": "text"
      },
      "source": [
        "Generate Output for the Lab"
      ]
    },
    {
      "cell_type": "code",
      "metadata": {
        "id": "zbcH1jG_6qy6",
        "colab_type": "code",
        "colab": {
          "base_uri": "https://localhost:8080/",
          "height": 564
        },
        "outputId": "a6832ecf-a251-4cee-99a2-49c2f69f5657"
      },
      "source": [
        "\n",
        "#punctuation to remove from the end of words\n",
        "punctuation = ['.', ':', ',']\n",
        "\n",
        "#Output file to print results to\n",
        "with open('output.txt','w') as f:\n",
        "\n",
        "#iterate over Reduce content\n",
        "  for x in range( len(wMap2) ):\n",
        "\n",
        "    #Print the Key\n",
        "    f.write(wMap2[x][0])\n",
        "    print(wMap2[x][0], end = '')\n",
        "\n",
        "    #Print a comma\n",
        "    f.write(', ')\n",
        "    print(', ', end = '')\n",
        "\n",
        "    #Get the words for the Key\n",
        "    xWord = wMap2[x][1]\n",
        "    xWords = xWord.split()\n",
        "    \n",
        "    #Loop throug the words, put a comma between words\n",
        "    #but not at the end\n",
        "    y = 0\n",
        "\n",
        "    #Loop to the second to last element\n",
        "    while (y < (len(xWords) - 1)):\n",
        "\n",
        "      #If word ends with a puncuation remove it\n",
        "      if (xWords[y][-1] in puncuation):\n",
        "        xWords[y] = xWords[y][:-1]\n",
        "\n",
        "      #Print the word\n",
        "      f.write(xWords[y])\n",
        "      print(xWords[y], end = '')\n",
        "\n",
        "      #print a comma\n",
        "      f.write(', ')\n",
        "      print(', ', end = '')\n",
        "      y = y + 1\n",
        "\n",
        "    #check the word for key if it ends with a punctuation\n",
        "    if (xWords[y][-1] in punctuation):\n",
        "      xWords[y] = xWords[y][:-1]\n",
        "    \n",
        "    #print the last element\n",
        "    f.write(xWords[y])\n",
        "    f.write('\\n')\n",
        "    print(xWords[y])\n",
        "\n"
      ],
      "execution_count": 90,
      "outputs": [
        {
          "output_type": "stream",
          "text": [
            "[('T', 'The'), ('U', 'University'), ('o', 'of'), ('S', 'South'), ('C', 'Carolina'), ('r', 'reports'), ('t', 'that'), ('m', 'more'), ('t', 'than'), ('1', '1,000'), ('s', 'students'), ('c', 'currently'), ('h', 'have'), ('t', 'the'), ('v', 'virus.'), ('T', 'The'), ('C', 'C.D.C.'), ('t', 'tells'), ('h', 'health'), ('o', 'officials'), ('t', 'to'), ('b', 'be'), ('r', 'ready'), ('t', 'to'), ('d', 'distribute'), ('a', 'a'), ('v', 'vaccine'), ('b', 'by'), ('N', 'November,'), ('r', 'raising'), ('c', 'concerns'), ('o', 'over'), ('p', 'politicized'), ('t', 'timing.'), ('I', 'In'), ('I', 'Iowa,'), ('c', 'college'), ('s', 'students'), ('s', 'staged'), ('a', 'a'), ('s', 'sickout,'), ('a', 'and'), ('a', 'a'), ('f', 'football'), ('o', 'opener'), ('w', 'won’t'), ('h', 'have'), ('f', 'fans'), ('a', 'after'), ('a', 'all.'), ('V', 'Virus'), ('f', 'fallout'), ('f', 'from'), ('t', 'the'), ('S', 'Sturgis'), ('m', 'motorcycle'), ('r', 'rally:'), ('A', 'A'), ('d', 'death'), ('i', 'in'), ('M', 'Minnesota,'), ('c', 'cases'), ('i', 'in'), ('S', 'South'), ('D', 'Dakota'), ('a', 'and'), ('m', 'more.'), ('N', 'New'), ('s', 'studies'), ('s', 'show'), ('i', 'inexpensive'), ('s', 'steroid'), ('d', 'drugs'), ('c', 'can'), ('h', 'help'), ('c', 'critically'), ('s', 'sick'), ('p', 'people'), ('s', 'survive'), ('C', 'Covid-19.'), ('S', 'Silvio'), ('B', 'Berlusconi,'), ('I', 'Italy’s'), ('f', 'former'), ('p', 'prime'), ('m', 'minister,'), ('t', 'tests'), ('p', 'positive.'), ('A', 'A'), ('j', 'judge'), ('o', 'orders'), ('t', 'the'), ('U', 'University'), ('o', 'of'), ('C', 'California'), ('t', 'to'), ('s', 'stop'), ('c', 'considering'), ('S', 'SAT'), ('o', 'or'), ('A', 'ACT'), ('s', 'scores'), ('b', 'because'), ('o', 'of'), ('t', 'the'), ('p', 'pandemic.')]\n",
            "[('S', 'South Sturgis South Silvio SAT'), ('C', 'Carolina C.D.C. Covid-19. California'), ('r', 'reports ready raising rally:'), ('1', '1,000'), ('s', 'students students staged sickout, studies show steroid sick survive stop scores'), ('c', 'currently concerns college cases can critically considering'), ('h', 'have health have help'), ('b', 'be by because'), ('d', 'distribute death drugs'), ('N', 'November, New'), ('p', 'politicized people prime positive. pandemic.'), ('i', 'in in inexpensive'), ('j', 'judge'), ('T', 'The The'), ('U', 'University University'), ('o', 'of officials over opener orders of or of'), ('t', 'that than the tells to to timing. the tests the to the'), ('m', 'more motorcycle more. minister,'), ('v', 'virus. vaccine'), ('a', 'a a and a after all. and'), ('I', 'In Iowa, Italy’s'), ('f', 'football fans fallout from former'), ('w', 'won’t'), ('V', 'Virus'), ('A', 'A A ACT'), ('M', 'Minnesota,'), ('D', 'Dakota'), ('B', 'Berlusconi,')]\n",
            "<class 'list'>\n",
            "S, South, Sturgis, South, Silvio, SAT\n",
            "C, Carolina, C.D.C, Covid-19, California\n",
            "r, reports, ready, raising, rally\n",
            "1, 1,000\n",
            "s, students, students, staged, sickout, studies, show, steroid, sick, survive, stop, scores\n",
            "c, currently, concerns, college, cases, can, critically, considering\n",
            "h, have, health, have, help\n",
            "b, be, by, because\n",
            "d, distribute, death, drugs\n",
            "N, November, New\n",
            "p, politicized, people, prime, positive, pandemic\n",
            "i, in, in, inexpensive\n",
            "j, judge\n",
            "T, The, The\n",
            "U, University, University\n",
            "o, of, officials, over, opener, orders, of, or, of\n",
            "t, that, than, the, tells, to, to, timing, the, tests, the, to, the\n",
            "m, more, motorcycle, more, minister\n",
            "v, virus, vaccine\n",
            "a, a, a, and, a, after, all, and\n",
            "I, In, Iowa, Italy’s\n",
            "f, football, fans, fallout, from, former\n",
            "w, won’t\n",
            "V, Virus\n",
            "A, A, A, ACT\n",
            "M, Minnesota\n",
            "D, Dakota\n",
            "B, Berlusconi\n"
          ],
          "name": "stdout"
        }
      ]
    }
  ]
}