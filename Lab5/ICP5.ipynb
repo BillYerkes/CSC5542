{
  "nbformat": 4,
  "nbformat_minor": 0,
  "metadata": {
    "colab": {
      "name": "ICP4.ipynb",
      "provenance": []
    },
    "kernelspec": {
      "name": "python3",
      "display_name": "Python 3"
    }
  },
  "cells": [
    {
      "cell_type": "markdown",
      "metadata": {
        "id": "r2JoCLN_-GVw"
      },
      "source": [
        "Load the libraries"
      ]
    },
    {
      "cell_type": "code",
      "metadata": {
        "id": "YZrrtyA-Ihi_"
      },
      "source": [
        "import numpy\n",
        "from keras.models import Sequential\n",
        "from keras.layers import Dense, Dropout, Flatten, BatchNormalization, Activation\n",
        "from keras.layers.convolutional import Conv2D, MaxPooling2D\n",
        "from keras.constraints import maxnorm\n",
        "from keras.utils import np_utils\n",
        "from keras.datasets import cifar10\n",
        "\n",
        "from tensorflow import keras\n",
        "from tensorflow.keras import layers\n",
        "from tensorflow.keras.models import Sequential"
      ],
      "execution_count": 55,
      "outputs": []
    },
    {
      "cell_type": "markdown",
      "metadata": {
        "id": "Jn36mR6gNhiq"
      },
      "source": [
        "Set The random seed"
      ]
    },
    {
      "cell_type": "code",
      "metadata": {
        "id": "agVj8xIAGu4c"
      },
      "source": [
        "# Set random seed for purposes of reproducibility\n",
        "seed = 21"
      ],
      "execution_count": 2,
      "outputs": []
    },
    {
      "cell_type": "markdown",
      "metadata": {
        "id": "smw-A_L8OXRZ"
      },
      "source": [
        "Create training and test data from CIFAR 10"
      ]
    },
    {
      "cell_type": "code",
      "metadata": {
        "id": "D1G2V0ldG-gb",
        "outputId": "c5859c53-a318-4b14-edfd-30c6e28fb40e",
        "colab": {
          "base_uri": "https://localhost:8080/",
          "height": 54
        }
      },
      "source": [
        "# loading in the data\n",
        "     \n",
        "(X_train, y_train), (X_test, y_test) = cifar10.load_data()"
      ],
      "execution_count": 3,
      "outputs": [
        {
          "output_type": "stream",
          "text": [
            "Downloading data from https://www.cs.toronto.edu/~kriz/cifar-10-python.tar.gz\n",
            "170500096/170498071 [==============================] - 4s 0us/step\n"
          ],
          "name": "stdout"
        }
      ]
    },
    {
      "cell_type": "markdown",
      "metadata": {
        "id": "us8fwz7HPDM4"
      },
      "source": [
        "Normalize the Data"
      ]
    },
    {
      "cell_type": "code",
      "metadata": {
        "id": "fu-SWHIoHd0M"
      },
      "source": [
        " # normalize the inputs from 0-255 to between 0 and 1 by dividing by 255   \n",
        "X_train = X_train.astype('float32')\n",
        "X_test = X_test.astype('float32')\n",
        "X_train = X_train / 255.0\n",
        "X_test = X_test / 255.0"
      ],
      "execution_count": 7,
      "outputs": []
    },
    {
      "cell_type": "markdown",
      "metadata": {
        "id": "ggDYGPFnP3rb"
      },
      "source": [
        "The Numpy command to_categorical() is used to one-hot encode. This is why we imported the np_utils function from Keras, as it contains to_categorical().\n",
        "\n",
        "We also need to specify the number of classes that are in the dataset, so we know how many neurons to compress the final layer down to:"
      ]
    },
    {
      "cell_type": "code",
      "metadata": {
        "id": "3AU4mn3WIaL1"
      },
      "source": [
        "# one hot encode outputs\n",
        "y_train = np_utils.to_categorical(y_train)\n",
        "y_test = np_utils.to_categorical(y_test)\n",
        "class_num = y_test.shape[1]"
      ],
      "execution_count": 8,
      "outputs": []
    },
    {
      "cell_type": "markdown",
      "metadata": {
        "id": "fRnX3Eo0QlRP"
      },
      "source": [
        "Aapply data augmentation to the same image several times:"
      ]
    },
    {
      "cell_type": "code",
      "metadata": {
        "id": "jVxpC73X0jow"
      },
      "source": [
        "data_augmentation = keras.Sequential(\n",
        "  [\n",
        "    layers.experimental.preprocessing.RandomFlip(\"horizontal\", \n",
        "                                                 input_shape=(32, \n",
        "                                                              32,\n",
        "                                                              3)),\n",
        "    layers.experimental.preprocessing.RandomRotation(0.1),\n",
        "    layers.experimental.preprocessing.RandomZoom(0.1),\n",
        "  ]\n",
        ")"
      ],
      "execution_count": 63,
      "outputs": []
    },
    {
      "cell_type": "markdown",
      "metadata": {
        "id": "gYuWZPs8-yOo"
      },
      "source": [
        "Build the Model"
      ]
    },
    {
      "cell_type": "code",
      "metadata": {
        "id": "U-S1CPtSI6xA"
      },
      "source": [
        "model = Sequential()\n",
        "\n",
        "model.add(data_augmentation)\n",
        "\n",
        "model.add(Conv2D(8, (3, 3), input_shape=X_train.shape[1:], padding='same'))\n",
        "model.add(Activation('relu'))\n",
        "\n",
        "model.add(MaxPooling2D(pool_size=(2, 2)))\n",
        "\n",
        "model.add(Conv2D(16, (3, 3), padding='same'))\n",
        "model.add(Activation('relu'))\n",
        "model.add(Dropout(0.2))\n",
        "model.add(MaxPooling2D(pool_size=(2, 2)))\n",
        "\n",
        "model.add(Conv2D(32, (3, 3), padding='same'))\n",
        "model.add(Activation('relu'))\n",
        "model.add(Dropout(0.2))\n",
        "model.add(MaxPooling2D(pool_size=(2, 2)))\n",
        "\n",
        "model.add(Conv2D(64, (3, 3), padding='same'))\n",
        "model.add(Activation('relu'))\n",
        "model.add(Dropout(0.2))\n",
        "model.add(MaxPooling2D(pool_size=(2, 2)))\n",
        "\n",
        "model.add(Conv2D(128, (3, 3), padding='same'))\n",
        "model.add(Activation('relu'))\n",
        "model.add(Dropout(0.2))\n",
        "model.add(MaxPooling2D(pool_size=(2, 2)))\n",
        "\n",
        "model.add(Flatten())\n",
        "model.add(Dense(128, kernel_constraint=maxnorm(3)))\n",
        "model.add(Activation('relu'))\n",
        "\n",
        "\n",
        "model.add(Dense(class_num))\n",
        "model.add(Activation('softmax'))"
      ],
      "execution_count": 70,
      "outputs": []
    },
    {
      "cell_type": "code",
      "metadata": {
        "id": "gyBIcmA3J9n3"
      },
      "source": [
        ""
      ],
      "execution_count": 71,
      "outputs": []
    },
    {
      "cell_type": "markdown",
      "metadata": {
        "id": "A3dxvyxBUf4y"
      },
      "source": [
        "Set the number of epochs and compile the model"
      ]
    },
    {
      "cell_type": "code",
      "metadata": {
        "id": "I1dWpi9jKF6j"
      },
      "source": [
        "epochs = 20\n",
        "optimizer = 'adam'\n",
        "\n",
        "model.compile(loss='categorical_crossentropy', optimizer=optimizer, metrics=['accuracy'])"
      ],
      "execution_count": 72,
      "outputs": []
    },
    {
      "cell_type": "markdown",
      "metadata": {
        "id": "x3vH2duaUifC"
      },
      "source": [
        "We can print out the model summary to see what the whole model looks like."
      ]
    },
    {
      "cell_type": "code",
      "metadata": {
        "id": "g6EfNH2uKNZY",
        "outputId": "025f8723-e4e8-41da-cdb2-06085414cbbe",
        "colab": {
          "base_uri": "https://localhost:8080/",
          "height": 1000
        }
      },
      "source": [
        "print(model.summary())"
      ],
      "execution_count": 73,
      "outputs": [
        {
          "output_type": "stream",
          "text": [
            "Model: \"sequential_17\"\n",
            "_________________________________________________________________\n",
            "Layer (type)                 Output Shape              Param #   \n",
            "=================================================================\n",
            "sequential_15 (Sequential)   (None, 32, 32, 3)         0         \n",
            "_________________________________________________________________\n",
            "conv2d_67 (Conv2D)           (None, 32, 32, 8)         224       \n",
            "_________________________________________________________________\n",
            "activation_96 (Activation)   (None, 32, 32, 8)         0         \n",
            "_________________________________________________________________\n",
            "max_pooling2d_63 (MaxPooling (None, 16, 16, 8)         0         \n",
            "_________________________________________________________________\n",
            "conv2d_68 (Conv2D)           (None, 16, 16, 16)        1168      \n",
            "_________________________________________________________________\n",
            "activation_97 (Activation)   (None, 16, 16, 16)        0         \n",
            "_________________________________________________________________\n",
            "dropout_20 (Dropout)         (None, 16, 16, 16)        0         \n",
            "_________________________________________________________________\n",
            "max_pooling2d_64 (MaxPooling (None, 8, 8, 16)          0         \n",
            "_________________________________________________________________\n",
            "conv2d_69 (Conv2D)           (None, 8, 8, 32)          4640      \n",
            "_________________________________________________________________\n",
            "activation_98 (Activation)   (None, 8, 8, 32)          0         \n",
            "_________________________________________________________________\n",
            "dropout_21 (Dropout)         (None, 8, 8, 32)          0         \n",
            "_________________________________________________________________\n",
            "max_pooling2d_65 (MaxPooling (None, 4, 4, 32)          0         \n",
            "_________________________________________________________________\n",
            "conv2d_70 (Conv2D)           (None, 4, 4, 64)          18496     \n",
            "_________________________________________________________________\n",
            "activation_99 (Activation)   (None, 4, 4, 64)          0         \n",
            "_________________________________________________________________\n",
            "dropout_22 (Dropout)         (None, 4, 4, 64)          0         \n",
            "_________________________________________________________________\n",
            "max_pooling2d_66 (MaxPooling (None, 2, 2, 64)          0         \n",
            "_________________________________________________________________\n",
            "conv2d_71 (Conv2D)           (None, 2, 2, 128)         73856     \n",
            "_________________________________________________________________\n",
            "activation_100 (Activation)  (None, 2, 2, 128)         0         \n",
            "_________________________________________________________________\n",
            "dropout_23 (Dropout)         (None, 2, 2, 128)         0         \n",
            "_________________________________________________________________\n",
            "max_pooling2d_67 (MaxPooling (None, 1, 1, 128)         0         \n",
            "_________________________________________________________________\n",
            "flatten_13 (Flatten)         (None, 128)               0         \n",
            "_________________________________________________________________\n",
            "dense_30 (Dense)             (None, 128)               16512     \n",
            "_________________________________________________________________\n",
            "activation_101 (Activation)  (None, 128)               0         \n",
            "_________________________________________________________________\n",
            "dense_31 (Dense)             (None, 10)                1290      \n",
            "_________________________________________________________________\n",
            "activation_102 (Activation)  (None, 10)                0         \n",
            "=================================================================\n",
            "Total params: 116,186\n",
            "Trainable params: 116,186\n",
            "Non-trainable params: 0\n",
            "_________________________________________________________________\n",
            "None\n"
          ],
          "name": "stdout"
        }
      ]
    },
    {
      "cell_type": "markdown",
      "metadata": {
        "id": "ABuEc8PcU20e"
      },
      "source": [
        "Now we get to training the model. To do this, all we have to do is call the fit() function on the model and pass in the chosen parameters.\n",
        "\n",
        "Here's where I use the seed I chose, for the purposes of reproducibility."
      ]
    },
    {
      "cell_type": "code",
      "metadata": {
        "id": "KyNRgg_kKb0O",
        "outputId": "55acbefe-c584-4e8c-9c36-7cfda1fe98fc",
        "colab": {
          "base_uri": "https://localhost:8080/",
          "height": 745
        }
      },
      "source": [
        "numpy.random.seed(seed)\n",
        "history = model.fit(X_train, y_train, validation_data=(X_test, y_test), epochs=epochs, batch_size=64)"
      ],
      "execution_count": 77,
      "outputs": [
        {
          "output_type": "stream",
          "text": [
            "Epoch 1/20\n",
            "782/782 [==============================] - 62s 80ms/step - loss: 1.1234 - accuracy: 0.5965 - val_loss: 1.0519 - val_accuracy: 0.6467\n",
            "Epoch 2/20\n",
            "782/782 [==============================] - 61s 78ms/step - loss: 1.1184 - accuracy: 0.5998 - val_loss: 1.0761 - val_accuracy: 0.6406\n",
            "Epoch 3/20\n",
            "782/782 [==============================] - 61s 78ms/step - loss: 1.1083 - accuracy: 0.6047 - val_loss: 1.0565 - val_accuracy: 0.6330\n",
            "Epoch 4/20\n",
            "782/782 [==============================] - 61s 78ms/step - loss: 1.0979 - accuracy: 0.6116 - val_loss: 1.0653 - val_accuracy: 0.6316\n",
            "Epoch 5/20\n",
            "782/782 [==============================] - 62s 80ms/step - loss: 1.1101 - accuracy: 0.6041 - val_loss: 1.0919 - val_accuracy: 0.6240\n",
            "Epoch 6/20\n",
            "782/782 [==============================] - 62s 79ms/step - loss: 1.0922 - accuracy: 0.6109 - val_loss: 1.0720 - val_accuracy: 0.6316\n",
            "Epoch 7/20\n",
            "782/782 [==============================] - 62s 79ms/step - loss: 1.0889 - accuracy: 0.6129 - val_loss: 1.0365 - val_accuracy: 0.6421\n",
            "Epoch 8/20\n",
            "782/782 [==============================] - 63s 80ms/step - loss: 1.0854 - accuracy: 0.6146 - val_loss: 1.0416 - val_accuracy: 0.6465\n",
            "Epoch 9/20\n",
            "782/782 [==============================] - 62s 79ms/step - loss: 1.0818 - accuracy: 0.6153 - val_loss: 1.0456 - val_accuracy: 0.6389\n",
            "Epoch 10/20\n",
            "782/782 [==============================] - 63s 80ms/step - loss: 1.0783 - accuracy: 0.6154 - val_loss: 1.0662 - val_accuracy: 0.6296\n",
            "Epoch 11/20\n",
            "782/782 [==============================] - 63s 80ms/step - loss: 1.0717 - accuracy: 0.6201 - val_loss: 1.0254 - val_accuracy: 0.6515\n",
            "Epoch 12/20\n",
            "782/782 [==============================] - 61s 78ms/step - loss: 1.0692 - accuracy: 0.6216 - val_loss: 1.0301 - val_accuracy: 0.6403\n",
            "Epoch 13/20\n",
            "782/782 [==============================] - 62s 79ms/step - loss: 1.0659 - accuracy: 0.6229 - val_loss: 1.0085 - val_accuracy: 0.6489\n",
            "Epoch 14/20\n",
            "782/782 [==============================] - 61s 78ms/step - loss: 1.0637 - accuracy: 0.6213 - val_loss: 1.0198 - val_accuracy: 0.6516\n",
            "Epoch 15/20\n",
            "782/782 [==============================] - 61s 78ms/step - loss: 1.0575 - accuracy: 0.6214 - val_loss: 1.0623 - val_accuracy: 0.6312\n",
            "Epoch 16/20\n",
            "782/782 [==============================] - 62s 79ms/step - loss: 1.0505 - accuracy: 0.6272 - val_loss: 0.9885 - val_accuracy: 0.6685\n",
            "Epoch 17/20\n",
            "782/782 [==============================] - 61s 78ms/step - loss: 1.0485 - accuracy: 0.6287 - val_loss: 1.0100 - val_accuracy: 0.6541\n",
            "Epoch 18/20\n",
            "782/782 [==============================] - 61s 78ms/step - loss: 1.0467 - accuracy: 0.6288 - val_loss: 0.9734 - val_accuracy: 0.6689\n",
            "Epoch 19/20\n",
            "782/782 [==============================] - 61s 78ms/step - loss: 1.0423 - accuracy: 0.6271 - val_loss: 1.0374 - val_accuracy: 0.6336\n",
            "Epoch 20/20\n",
            "782/782 [==============================] - 61s 78ms/step - loss: 1.0454 - accuracy: 0.6301 - val_loss: 1.0308 - val_accuracy: 0.6445\n"
          ],
          "name": "stdout"
        }
      ]
    },
    {
      "cell_type": "code",
      "metadata": {
        "id": "CklFCmPsKtcV",
        "outputId": "6c5db0fc-fdad-4853-b294-bc945488197b",
        "colab": {
          "base_uri": "https://localhost:8080/",
          "height": 35
        }
      },
      "source": [
        "# Model evaluation\n",
        "scores = model.evaluate(X_test, y_test, verbose=0)\n",
        "print(\"Accuracy: %.2f%%\" % (scores[1]*100))"
      ],
      "execution_count": 78,
      "outputs": [
        {
          "output_type": "stream",
          "text": [
            "Accuracy: 64.45%\n"
          ],
          "name": "stdout"
        }
      ]
    },
    {
      "cell_type": "markdown",
      "metadata": {
        "id": "XXfoS19f_I8p"
      },
      "source": [
        "Visualize the results"
      ]
    },
    {
      "cell_type": "code",
      "metadata": {
        "id": "sY3-AtIT_E1X",
        "outputId": "a514b2f8-31a4-474d-e904-f58af6294169",
        "colab": {
          "base_uri": "https://localhost:8080/",
          "height": 499
        }
      },
      "source": [
        "import matplotlib.pyplot as plt\n",
        "\n",
        "acc = history.history['accuracy']\n",
        "val_acc = history.history['val_accuracy']\n",
        "\n",
        "loss = history.history['loss']\n",
        "val_loss = history.history['val_loss']\n",
        "\n",
        "epochs_range = range(epochs)\n",
        "\n",
        "plt.figure(figsize=(8, 8))\n",
        "plt.subplot(1, 2, 1)\n",
        "plt.plot(epochs_range, acc, label='Training Accuracy')\n",
        "plt.plot(epochs_range, val_acc, label='Validation Accuracy')\n",
        "plt.legend(loc='lower right')\n",
        "plt.title('Training and Validation Accuracy')\n",
        "\n",
        "plt.subplot(1, 2, 2)\n",
        "plt.plot(epochs_range, loss, label='Training Loss')\n",
        "plt.plot(epochs_range, val_loss, label='Validation Loss')\n",
        "plt.legend(loc='upper right')\n",
        "plt.title('Training and Validation Loss')\n",
        "plt.show()"
      ],
      "execution_count": 80,
      "outputs": [
        {
          "output_type": "display_data",
          "data": {
            "image/png": "[encoded data removed]",
            "text/plain": [
              "<Figure size 576x576 with 2 Axes>"
            ]
          },
          "metadata": {
            "tags": [],
            "needs_background": "light"
          }
        }
      ]
    }
  ]
}